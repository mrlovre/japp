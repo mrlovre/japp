{
 "cells": [
  {
   "cell_type": "code",
   "execution_count": 2,
   "metadata": {
    "ExecuteTime": {
     "end_time": "2020-02-05T18:35:37.018294Z",
     "start_time": "2020-02-05T18:35:37.011459Z"
    }
   },
   "outputs": [],
   "source": [
    "import nagisa\n",
    "import requests\n",
    "\n",
    "with open(\"text.txt\", \"r\") as file:\n",
    "    text = str.join(\"\", file.readlines())"
   ]
  },
  {
   "cell_type": "code",
   "execution_count": 4,
   "metadata": {
    "ExecuteTime": {
     "end_time": "2020-02-05T18:35:44.637975Z",
     "start_time": "2020-02-05T18:35:44.633649Z"
    }
   },
   "outputs": [
    {
     "name": "stdout",
     "output_type": "stream",
     "text": [
      "「さっぽろ雪まつり」きょう開幕 新型肺炎や雪不足の影響も\n",
      "2020年2月4日 5時28分\n",
      "\n",
      "雪や氷の像で冬の札幌を彩る「さっぽろ雪まつり」が４日、市の中心部のメイン会場で開幕します。ことしは新型コロナウイルスの感染拡大や雪不足の影響を受ける中での開催となります。\n",
      "\n",
      "ことしで71回目を迎える「さっぽろ雪まつり」は、一足早く始まっている札幌市東区の「つどーむ会場」に続き、４日、メインとなる札幌市中心部の大通会場と、繁華街のすすきの会場でも開幕し、およそ200基の雪像や氷像が展示されます。\n",
      "\n",
      "大通会場では、ポーランドの宮殿を実際の半分の大きさで再現した雪像や、北海道のサラブレッドをテーマにした高さ12ｍの雪像など、５基の大雪像が登場します。\n",
      "\n",
      "すすきの会場にはおよそ60基の氷像が展示され、つどーむ会場では雪で作った滑り台も楽しめます。\n",
      "\n",
      "さっぽろ雪まつりは去年は270万人余りが訪れた札幌の冬の一大イベントです。\n",
      "\n",
      "３つの会場とも今月11日まで行われます。\n",
      "\n",
      "「さっぽろ雪まつり」 ホテルキャンセル相次ぐ\n",
      "札幌市中央区のホテル「ニューオータニイン札幌」では、「さっぽろ雪まつり」の時期は例年、客室の稼働率が95％程度と満室に近い状態でした。\n",
      "\n",
      "しかし、ことしは新型コロナウイルウスの感染の拡大を防ぐため中国政府が団体旅行を禁止している影響で、先月末からキャンセルが相次ぎました。\n",
      "\n",
      "これまでにおよそ1500件の予約がキャンセルされ、稼働率は80％程度にとどまっているということです。\n",
      "\n",
      "客室の予約状況を示す画面でも、空室が10室以上ある○印の部屋が多く見られます。\n",
      "\n",
      "値段もこの時期の通常より30％程度安くしているということです。\n",
      "\n",
      "松島啓二・営業企画室長は「中国の春節から雪まつりというこの時期は、通常だとかきいれどきなので、今回の影響はかなり大きいです。ほかのホテルの動向を見て価格設定の見直しをはかっていきたい」と話していました。\n",
      "\n",
      "札幌市の試算によりますと、市内のホテルや旅館などのキャンセルは、３月末までに13万3000人にのぼっています。\n",
      "\n",
      "これは調査対象のホテルの客室すべての丸２日分にあたり、売り上げの減少はおよそ64億円に達する見込みだということです。\n",
      "新型コロナウイルス 対策あれこれ\n",
      "雪まつりの実行委員会は、会場が国内外の多くの人で混雑するため、新型コロナウイルスの対策も行います。\n",
      "\n",
      "会場の入り口やトイレには消毒液が設置されます。\n",
      "\n",
      "また、会場には感染を防ぐための対策を記したポスターが掲示されます。\n",
      "ポスターには、せきやくしゃみの症状がある時はできるだけマスクをすることや、マスクがない時には袖や上着の内側で口を押さえるといった注意点が、日本語に加え英語や中国語でも記されています。\n",
      "\n",
      "このほか実行委員会は、会場の案内などのスタッフやボランティアにもマスクの着用を呼びかけて、感染の防止に努めることにしています。\n",
      "雪不足で滑り台小さく\n",
      "記録的な雪不足の影響も出ています。\n",
      "\n",
      "つどーむ会場の滑り台は、当初10ｍの高さにする計画でしたが、雪不足のため７ｍと、一回り小さくなりました。\n",
      "\n",
      "また、雪不足に対応するため民間の業者が予定より早い時期から雪の搬入を始め、トラックの台数も増やして対応したほか、例年よりも遠い、会場から片道２時間ほどかかる場所からも雪を運び込みました。\n",
      "小学校の校外学習にも影響\n",
      "地元のまつりを学ぶ小学校の校外学習にも影響が出ています。\n",
      "\n",
      "札幌市北区の北九条小学校では、今月６日に予定していた２年生による雪まつり会場の見学を中止しました。\n",
      "\n",
      "新型コロナウイルスやインフルエンザなどの感染症対策に万全を期すためだということです。\n",
      "\n",
      "保護者にも「人混みの中での活動をなるべく避けるという観点から中止します」などと書かれたお知らせを配りました。\n",
      "\n",
      "例年、雪まつりを見学したあとにグラウンドで行っていた雪を使った遊び場作りも、ことしは会場の写真などを見て制作の参考にするということです。\n",
      "\n",
      "北九条小学校の佐野浩志・教頭は「子どもたちが楽しみにしていた行事ですが、保護者も不安に思っておられたので、総合的に考えて中止と判断しました」と話していました。\n",
      "\n",
      "札幌市教育委員会によりますと、雪まつり会場を訪れる予定だった市内の小学校106校のうち、４日現在で71校が中止を決めたということです。\n",
      "\n"
     ]
    }
   ],
   "source": [
    "print(text)"
   ]
  },
  {
   "cell_type": "code",
   "execution_count": 16,
   "metadata": {
    "ExecuteTime": {
     "end_time": "2020-02-05T18:39:50.126247Z",
     "start_time": "2020-02-05T18:39:49.760600Z"
    }
   },
   "outputs": [],
   "source": [
    "tags = nagisa.tagging(text)\n",
    "words = tags.words\n",
    "pos = tags.postags"
   ]
  },
  {
   "cell_type": "code",
   "execution_count": 63,
   "metadata": {
    "ExecuteTime": {
     "end_time": "2020-02-05T19:03:07.504195Z",
     "start_time": "2020-02-05T19:03:07.499416Z"
    }
   },
   "outputs": [],
   "source": [
    "short = \"今日はいい天気ですね。\"\n",
    "url = \"https://jisho.org/api/v1/search/words?keyword={keyword}\""
   ]
  },
  {
   "cell_type": "code",
   "execution_count": 72,
   "metadata": {
    "ExecuteTime": {
     "end_time": "2020-02-05T19:05:53.021568Z",
     "start_time": "2020-02-05T19:05:53.014239Z"
    }
   },
   "outputs": [],
   "source": [
    "# def word_to_entry(word):\n",
    "#     japanese = word[\"japanese\"][0]\n",
    "#     return f'{japanese[\"word\"]} 「{japanese[\"reading\"]}」: {str.join(\"; \", [str.join(\", \", sense[\"english_definitions\"]) for sense in word[\"senses\"]])}\\n'\n",
    "\n",
    "def word_to_entry(word):\n",
    "    japanese = word[\"japanese\"][0]\n",
    "    senses = word[\"senses\"]\n",
    "    return f'{japanese[\"word\"]}\\t{japanese[\"reading\"]}\\t{str.join(\"; \", [str.join(\", \", sense[\"english_definitions\"]) for sense in senses])}'"
   ]
  },
  {
   "cell_type": "code",
   "execution_count": null,
   "metadata": {
    "ExecuteTime": {
     "start_time": "2020-02-05T19:12:51.047Z"
    }
   },
   "outputs": [
    {
     "name": "stdout",
     "output_type": "stream",
     "text": [
      "札幌\tさっぽろ\tSapporo (city)\n",
      "雪祭り\tゆきまつり\tsnow festival\n",
      "今日\tきょう\ttoday, this day; these days, recently, nowadays\n"
     ]
    }
   ],
   "source": [
    "tags = nagisa.tagging(text)\n",
    "for word, tag in zip(tags.words, tags.postags):\n",
    "    if tag in [\"助詞\", \"補助記号\"]:\n",
    "        continue\n",
    "    result = requests.get(url.format(keyword=word)).json()\n",
    "    try:\n",
    "        print(word_to_entry(result[\"data\"][0]))\n",
    "    except:\n",
    "        print(f\"Error! {word}\")"
   ]
  },
  {
   "cell_type": "code",
   "execution_count": 80,
   "metadata": {
    "ExecuteTime": {
     "end_time": "2020-02-05T19:10:49.654991Z",
     "start_time": "2020-02-05T19:10:49.644857Z"
    }
   },
   "outputs": [
    {
     "data": {
      "text/plain": [
       "[('今日', '名詞'),\n",
       " ('は', '助詞'),\n",
       " ('いい', '形容詞'),\n",
       " ('天気', '名詞'),\n",
       " ('です', '助動詞'),\n",
       " ('ね', '助詞'),\n",
       " ('。', '補助記号')]"
      ]
     },
     "execution_count": 80,
     "metadata": {},
     "output_type": "execute_result"
    }
   ],
   "source": [
    "[(word, tag) for word, tag in zip(tags.words, tags.postags)]\n"
   ]
  },
  {
   "cell_type": "code",
   "execution_count": null,
   "metadata": {},
   "outputs": [],
   "source": []
  }
 ],
 "metadata": {
  "kernelspec": {
   "display_name": "Python 3",
   "language": "python",
   "name": "python3"
  },
  "language_info": {
   "codemirror_mode": {
    "name": "ipython",
    "version": 3
   },
   "file_extension": ".py",
   "mimetype": "text/x-python",
   "name": "python",
   "nbconvert_exporter": "python",
   "pygments_lexer": "ipython3",
   "version": "3.8.1"
  }
 },
 "nbformat": 4,
 "nbformat_minor": 4
}
