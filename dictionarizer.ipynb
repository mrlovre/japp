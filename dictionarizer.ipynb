{
 "cells": [
  {
   "cell_type": "code",
   "execution_count": 1,
   "id": "thick-nevada",
   "metadata": {
    "ExecuteTime": {
     "end_time": "2021-04-29T15:52:36.038968Z",
     "start_time": "2021-04-29T15:52:36.024467Z"
    }
   },
   "outputs": [],
   "source": [
    "%load_ext autoreload\n",
    "%autoreload 2"
   ]
  },
  {
   "cell_type": "code",
   "execution_count": 182,
   "id": "lovely-pension",
   "metadata": {
    "ExecuteTime": {
     "end_time": "2021-04-29T16:41:57.168928Z",
     "start_time": "2021-04-29T16:41:57.153695Z"
    }
   },
   "outputs": [],
   "source": [
    "import pandas as pd\n",
    "from pykakasi import kakasi\n",
    "from fugashi import Tagger\n",
    "from jamdict import Jamdict"
   ]
  },
  {
   "cell_type": "code",
   "execution_count": 183,
   "id": "contrary-station",
   "metadata": {
    "ExecuteTime": {
     "end_time": "2021-04-29T16:41:57.493024Z",
     "start_time": "2021-04-29T16:41:57.440661Z"
    }
   },
   "outputs": [],
   "source": [
    "text = \"\"\"\n",
    "ポツダムにおける宣言\n",
    "日本の降伏のための定義および規約\n",
    "我々合衆国大統領、中華民国政府主席、及び英国総理大臣は、我々の数億の国民を代表し協議の上、日本国に対し戦争を終結する機会を与えることで一致した。\n",
    "3ヶ国の軍隊は増強を受け、日本に最後の打撃を加える用意を既に整えた。この軍事力は、日本国の抵抗が止まるまで、同国に対する戦争を遂行する一切の連合国の決意により支持され且つ鼓舞される。\n",
    "世界の自由な人民に支持されたこの軍事力行使は、ナチス・ドイツに対して適用された場合にドイツとドイツ軍に完全に破壊をもたらしたことが示すように、日本と日本軍が完全に壊滅することを意味する。\n",
    "日本が、無分別な打算により自国を滅亡の淵に追い詰めた軍国主義者の指導を引き続き受けるか、それとも理性の道を歩むかを選ぶべき時が到来したのだ。\n",
    "我々の条件は以下の条文で示すとおりであり、これについては譲歩せず、我々がここから外れることも又ない。執行の遅れは認めない。\n",
    "日本国民を欺いて世界征服に乗り出す過ちを犯させた勢力を永久に除去する。無責任な軍国主義が世界から駆逐されるまでは、平和と安全と正義の新秩序も現れ得ないからである。\n",
    "第6条の新秩序が確立され、戦争能力が失われたことが確認される時までは、我々の指示する基本的目的の達成を確保するため、日本国領域内の諸地点は占領されるべきものとする。\n",
    "カイロ宣言の条項は履行されるべきであり、又日本国の主権は本州、北海道、九州及び四国ならびに我々の決定する諸小島に限られなければならない。\n",
    "日本軍は武装解除された後、各自の家庭に帰り平和・生産的に生活出来る機会を与えられる。\n",
    "我々の意志は日本人を民族として奴隷化し、また日本国民を滅亡させようとするものではないが、日本における捕虜虐待を含む一切の戦争犯罪人は処罰されるべきである。日本政府は日本国国民における民主主義的傾向の復活を強化し、これを妨げるあらゆる障碍は排除するべきであり、言論、宗教及び思想の自由並びに基本的人権の尊重は確立されるべきである。\n",
    "日本は経済復興し、課された賠償の義務を履行するための生産手段、戦争と再軍備に関わらないものが保有出来る。また将来的には国際貿易に復帰が許可される。\n",
    "日本国国民が自由に表明した意志による平和的傾向の責任ある政府の樹立を求める。この項目並びにすでに記載した条件が達成された場合に占領軍は撤退するべきである。\n",
    "我々は日本政府が全日本軍の即時無条件降伏を宣言し、またその行動について日本政府が十分に保障することを求める。これ以外の選択肢は迅速且つ完全なる壊滅があるのみである。\n",
    "\"\"\".strip()"
   ]
  },
  {
   "cell_type": "code",
   "execution_count": 184,
   "id": "inside-rider",
   "metadata": {
    "ExecuteTime": {
     "end_time": "2021-04-29T16:41:58.104790Z",
     "start_time": "2021-04-29T16:41:57.799465Z"
    }
   },
   "outputs": [],
   "source": [
    "tagger = Tagger()\n",
    "jmd = Jamdict()\n",
    "kks = kakasi()\n",
    "kks.setMode(\"K\", \"H\")\n",
    "conv_hk = kks.getConverter()"
   ]
  },
  {
   "cell_type": "code",
   "execution_count": 17,
   "id": "scheduled-jacksonville",
   "metadata": {
    "ExecuteTime": {
     "end_time": "2021-04-29T15:57:58.713894Z",
     "start_time": "2021-04-29T15:57:57.187345Z"
    }
   },
   "outputs": [
    {
     "data": {
      "text/html": [
       "<div>\n",
       "<style scoped>\n",
       "    .dataframe tbody tr th:only-of-type {\n",
       "        vertical-align: middle;\n",
       "    }\n",
       "\n",
       "    .dataframe tbody tr th {\n",
       "        vertical-align: top;\n",
       "    }\n",
       "\n",
       "    .dataframe thead th {\n",
       "        text-align: right;\n",
       "    }\n",
       "</style>\n",
       "<table border=\"1\" class=\"dataframe\">\n",
       "  <thead>\n",
       "    <tr style=\"text-align: right;\">\n",
       "      <th></th>\n",
       "      <th>orth</th>\n",
       "      <th>lemma</th>\n",
       "      <th>pos1</th>\n",
       "      <th>pos2</th>\n",
       "      <th>kana</th>\n",
       "    </tr>\n",
       "  </thead>\n",
       "  <tbody>\n",
       "    <tr>\n",
       "      <th>0</th>\n",
       "      <td>ポツダム</td>\n",
       "      <td>ポツダム-Potsdam</td>\n",
       "      <td>名詞</td>\n",
       "      <td>固有名詞</td>\n",
       "      <td>ポツダム</td>\n",
       "    </tr>\n",
       "    <tr>\n",
       "      <th>1</th>\n",
       "      <td>宣言</td>\n",
       "      <td>宣言</td>\n",
       "      <td>名詞</td>\n",
       "      <td>普通名詞</td>\n",
       "      <td>センゲン</td>\n",
       "    </tr>\n",
       "    <tr>\n",
       "      <th>2</th>\n",
       "      <td>日本</td>\n",
       "      <td>日本</td>\n",
       "      <td>名詞</td>\n",
       "      <td>固有名詞</td>\n",
       "      <td>ニッポン</td>\n",
       "    </tr>\n",
       "    <tr>\n",
       "      <th>3</th>\n",
       "      <td>降伏</td>\n",
       "      <td>降伏</td>\n",
       "      <td>名詞</td>\n",
       "      <td>普通名詞</td>\n",
       "      <td>コウフク</td>\n",
       "    </tr>\n",
       "    <tr>\n",
       "      <th>4</th>\n",
       "      <td>ため</td>\n",
       "      <td>為</td>\n",
       "      <td>名詞</td>\n",
       "      <td>普通名詞</td>\n",
       "      <td>タメ</td>\n",
       "    </tr>\n",
       "    <tr>\n",
       "      <th>...</th>\n",
       "      <td>...</td>\n",
       "      <td>...</td>\n",
       "      <td>...</td>\n",
       "      <td>...</td>\n",
       "      <td>...</td>\n",
       "    </tr>\n",
       "    <tr>\n",
       "      <th>164</th>\n",
       "      <td>十分</td>\n",
       "      <td>十分</td>\n",
       "      <td>形状詞</td>\n",
       "      <td>一般</td>\n",
       "      <td>ジュウブン</td>\n",
       "    </tr>\n",
       "    <tr>\n",
       "      <th>165</th>\n",
       "      <td>保障</td>\n",
       "      <td>保障</td>\n",
       "      <td>名詞</td>\n",
       "      <td>普通名詞</td>\n",
       "      <td>ホショウ</td>\n",
       "    </tr>\n",
       "    <tr>\n",
       "      <th>166</th>\n",
       "      <td>以外</td>\n",
       "      <td>以外</td>\n",
       "      <td>名詞</td>\n",
       "      <td>普通名詞</td>\n",
       "      <td>イガイ</td>\n",
       "    </tr>\n",
       "    <tr>\n",
       "      <th>167</th>\n",
       "      <td>選択</td>\n",
       "      <td>選択</td>\n",
       "      <td>名詞</td>\n",
       "      <td>普通名詞</td>\n",
       "      <td>センタク</td>\n",
       "    </tr>\n",
       "    <tr>\n",
       "      <th>168</th>\n",
       "      <td>迅速</td>\n",
       "      <td>迅速</td>\n",
       "      <td>形状詞</td>\n",
       "      <td>一般</td>\n",
       "      <td>ジンソク</td>\n",
       "    </tr>\n",
       "  </tbody>\n",
       "</table>\n",
       "<p>169 rows × 5 columns</p>\n",
       "</div>"
      ],
      "text/plain": [
       "     orth         lemma pos1  pos2   kana\n",
       "0    ポツダム  ポツダム-Potsdam   名詞  固有名詞   ポツダム\n",
       "1      宣言            宣言   名詞  普通名詞   センゲン\n",
       "2      日本            日本   名詞  固有名詞   ニッポン\n",
       "3      降伏            降伏   名詞  普通名詞   コウフク\n",
       "4      ため             為   名詞  普通名詞     タメ\n",
       "..    ...           ...  ...   ...    ...\n",
       "164    十分            十分  形状詞    一般  ジュウブン\n",
       "165    保障            保障   名詞  普通名詞   ホショウ\n",
       "166    以外            以外   名詞  普通名詞    イガイ\n",
       "167    選択            選択   名詞  普通名詞   センタク\n",
       "168    迅速            迅速  形状詞    一般   ジンソク\n",
       "\n",
       "[169 rows x 5 columns]"
      ]
     },
     "execution_count": 17,
     "metadata": {},
     "output_type": "execute_result"
    }
   ],
   "source": [
    "data = pd.concat([pd.DataFrame.from_dict({\"word\": str(token), **token.feature._asdict()}, orient=\"index\").T \n",
    "                  for token in tagger(text)]).reset_index(drop=True)\n",
    "\n",
    "attr = [\"orth\", \"lemma\", \"pos1\", \"pos2\", \"kana\"]\n",
    "dict_table = data[data[\"pos1\"].isin(\"名詞、代名詞、形状詞、形容詞、連体詞\".split(\"、\"))][attr].drop_duplicates(subset=\"orth\").reset_index(drop=True)\n",
    "dict_table"
   ]
  },
  {
   "cell_type": "code",
   "execution_count": 109,
   "id": "acknowledged-philadelphia",
   "metadata": {
    "ExecuteTime": {
     "end_time": "2021-04-29T16:24:26.295152Z",
     "start_time": "2021-04-29T16:24:26.274256Z"
    }
   },
   "outputs": [],
   "source": [
    "result = jmd.lookup(dict_table.iloc[0][\"orth\"])"
   ]
  },
  {
   "cell_type": "code",
   "execution_count": 110,
   "id": "enabling-maine",
   "metadata": {
    "ExecuteTime": {
     "end_time": "2021-04-29T16:24:26.525564Z",
     "start_time": "2021-04-29T16:24:26.505989Z"
    },
    "scrolled": true
   },
   "outputs": [
    {
     "data": {
      "text/plain": [
       "{'entries': [],\n",
       " 'chars': [],\n",
       " 'names': [{'idseq': 5078797,\n",
       "   'kanji': [],\n",
       "   'kana': [{'text': 'ポツダム', 'nokanji': 0}],\n",
       "   'senses': [{'SenseGloss': [{'lang': 'eng', 'text': 'Potsdam'}],\n",
       "     'name_type': ['place']}]}]}"
      ]
     },
     "execution_count": 110,
     "metadata": {},
     "output_type": "execute_result"
    }
   ],
   "source": [
    "result.to_json()"
   ]
  },
  {
   "cell_type": "code",
   "execution_count": 111,
   "id": "operating-cylinder",
   "metadata": {
    "ExecuteTime": {
     "end_time": "2021-04-29T16:24:26.785661Z",
     "start_time": "2021-04-29T16:24:26.764276Z"
    }
   },
   "outputs": [
    {
     "ename": "IndexError",
     "evalue": "list index out of range",
     "output_type": "error",
     "traceback": [
      "\u001b[0;31m---------------------------------------------------------------------------\u001b[0m",
      "\u001b[0;31mIndexError\u001b[0m                                Traceback (most recent call last)",
      "\u001b[0;32m<ipython-input-111-d3cb7c893337>\u001b[0m in \u001b[0;36m<module>\u001b[0;34m\u001b[0m\n\u001b[0;32m----> 1\u001b[0;31m \u001b[0mdir\u001b[0m\u001b[0;34m(\u001b[0m\u001b[0mresult\u001b[0m\u001b[0;34m.\u001b[0m\u001b[0mentries\u001b[0m\u001b[0;34m[\u001b[0m\u001b[0;36m0\u001b[0m\u001b[0;34m]\u001b[0m\u001b[0;34m.\u001b[0m\u001b[0msenses\u001b[0m\u001b[0;34m[\u001b[0m\u001b[0;36m0\u001b[0m\u001b[0;34m]\u001b[0m\u001b[0;34m.\u001b[0m\u001b[0mgloss\u001b[0m\u001b[0;34m)\u001b[0m\u001b[0;34m\u001b[0m\u001b[0;34m\u001b[0m\u001b[0m\n\u001b[0m\u001b[1;32m      2\u001b[0m \u001b[0mresult\u001b[0m\u001b[0;34m.\u001b[0m\u001b[0mentries\u001b[0m\u001b[0;34m[\u001b[0m\u001b[0;36m0\u001b[0m\u001b[0;34m]\u001b[0m\u001b[0;34m.\u001b[0m\u001b[0msenses\u001b[0m\u001b[0;34m[\u001b[0m\u001b[0;36m0\u001b[0m\u001b[0;34m]\u001b[0m\u001b[0;34m.\u001b[0m\u001b[0mgloss\u001b[0m\u001b[0;34m\u001b[0m\u001b[0;34m\u001b[0m\u001b[0m\n",
      "\u001b[0;31mIndexError\u001b[0m: list index out of range"
     ]
    }
   ],
   "source": [
    "dir(result.entries[0].senses[0].gloss)\n",
    "result.entries[0].senses[0].gloss"
   ]
  },
  {
   "cell_type": "code",
   "execution_count": 115,
   "id": "collaborative-necklace",
   "metadata": {
    "ExecuteTime": {
     "end_time": "2021-04-29T16:24:42.065474Z",
     "start_time": "2021-04-29T16:24:42.042378Z"
    }
   },
   "outputs": [
    {
     "data": {
      "text/plain": [
       "[Potsdam]"
      ]
     },
     "execution_count": 115,
     "metadata": {},
     "output_type": "execute_result"
    }
   ],
   "source": [
    "result.names[0].senses[0].gloss"
   ]
  },
  {
   "cell_type": "code",
   "execution_count": 201,
   "id": "meaningful-ministry",
   "metadata": {
    "ExecuteTime": {
     "end_time": "2021-04-29T16:51:07.340098Z",
     "start_time": "2021-04-29T16:51:07.323543Z"
    }
   },
   "outputs": [],
   "source": [
    "def display_result(result):\n",
    "    if result.entries:\n",
    "        entry = result.entries[0]\n",
    "    elif result.names:\n",
    "        entry = result.names[0]\n",
    "    else:\n",
    "        return \"% MISSING\"\n",
    "    \n",
    "    if entry.kanji_forms:\n",
    "        kanji_forms = entry.kanji_forms\n",
    "        kana_forms = entry.kana_forms\n",
    "    else:\n",
    "        kanji_forms = entry.kana_forms\n",
    "        kana_forms = []        \n",
    "    \n",
    "    kanji = str.join(\"・\", [kanji_form.text for kanji_form in kanji_forms])\n",
    "    kana = str.join(\"・\", [kana_form.text for kana_form in kana_forms])\n",
    "    meaning = str.join(\"\\n\",[r\"\\item\\justifying \" + str.join(\"; \", [gloss.text for gloss in sense.gloss]) for sense in entry.senses])\n",
    "    pos = \"\"\n",
    "    \n",
    "    return rf\"\\dictentry{{{kanji}}}{{{kana}}}{{{meaning}}}{{{pos}}}\""
   ]
  },
  {
   "cell_type": "code",
   "execution_count": 203,
   "id": "sexual-yield",
   "metadata": {
    "ExecuteTime": {
     "end_time": "2021-04-29T16:51:51.407594Z",
     "start_time": "2021-04-29T16:51:45.021668Z"
    }
   },
   "outputs": [],
   "source": [
    "with open(\"tekstovi/potsdam_dict.tex\", \"w\") as file:\n",
    "    print(*[display_result(jmd.lookup(term)) for term in dict_table[\"orth\"] if term], sep=\"\\n\", file=file)"
   ]
  },
  {
   "cell_type": "code",
   "execution_count": 187,
   "id": "opposite-young",
   "metadata": {
    "ExecuteTime": {
     "end_time": "2021-04-29T16:43:11.898740Z",
     "start_time": "2021-04-29T16:43:11.821695Z"
    }
   },
   "outputs": [
    {
     "name": "stdout",
     "output_type": "stream",
     "text": [
      "つける (付ける) : 1. to attach/to join/to add/to append/to affix/to stick/to glue/to fasten/to sew on/to apply (ointment) 2. to furnish (a house with) 3. to wear/to put on 4. to keep a diary/to make an entry 5. to appraise/to set (a price) 6. to allot/to budget/to assign 7. to bring alongside 8. to place (under guard or doctor) 9. to follow/to shadow 10. to load/to give (courage to) 11. to keep (an eye on) 12. to establish (relations or understanding) 13. to turn on (light) 14. to produce flowers/to produce fruit\n"
     ]
    }
   ],
   "source": [
    "entry = jmd.lookup(\"付ける\").entries[0]\n",
    "print(entry.text())"
   ]
  },
  {
   "cell_type": "code",
   "execution_count": 194,
   "id": "ceramic-groove",
   "metadata": {
    "ExecuteTime": {
     "end_time": "2021-04-29T16:43:57.820447Z",
     "start_time": "2021-04-29T16:43:57.797356Z"
    }
   },
   "outputs": [
    {
     "data": {
      "text/plain": [
       "['Ichidan verb', 'transitive verb']"
      ]
     },
     "execution_count": 194,
     "metadata": {},
     "output_type": "execute_result"
    }
   ],
   "source": [
    "dir(entry)\n",
    "entry.senses[0].pos"
   ]
  },
  {
   "cell_type": "code",
   "execution_count": null,
   "id": "mighty-citizen",
   "metadata": {},
   "outputs": [],
   "source": []
  }
 ],
 "metadata": {
  "kernelspec": {
   "display_name": "Python 3",
   "language": "python",
   "name": "python3"
  },
  "language_info": {
   "codemirror_mode": {
    "name": "ipython",
    "version": 3
   },
   "file_extension": ".py",
   "mimetype": "text/x-python",
   "name": "python",
   "nbconvert_exporter": "python",
   "pygments_lexer": "ipython3",
   "version": "3.8.7"
  }
 },
 "nbformat": 4,
 "nbformat_minor": 5
}
